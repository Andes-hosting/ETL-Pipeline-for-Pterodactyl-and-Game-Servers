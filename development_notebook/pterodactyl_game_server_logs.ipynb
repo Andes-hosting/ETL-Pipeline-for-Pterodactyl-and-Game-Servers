{
 "cells": [
  {
   "cell_type": "markdown",
   "metadata": {},
   "source": [
    "# ETL Pipeline for Pterodactyl Game Servers Logs\n",
    "\n",
    "### Index\n",
    "\n",
    "- Install requierements\n",
    "- Import libraries and setup key variables\n",
    "- Setup directories, functions and folder creation\n",
    "- Extract logs from each active Minecraft Server\n",
    "- Transformation from logs data into information\n",
    "- Load processed data into Data Warehouse (Postgres)"
   ]
  },
  {
   "cell_type": "markdown",
   "metadata": {},
   "source": [
    "## Install requierements"
   ]
  },
  {
   "cell_type": "code",
   "execution_count": null,
   "metadata": {},
   "outputs": [],
   "source": [
    "pip install -r requirements.txt"
   ]
  },
  {
   "cell_type": "markdown",
   "metadata": {},
   "source": [
    "## Import libraries and setup key variables\n",
    "Remember to add you own credentials in the .env file for them to be loaded here"
   ]
  },
  {
   "cell_type": "code",
   "execution_count": null,
   "metadata": {},
   "outputs": [],
   "source": [
    "import urllib.request, zipfile, requests, gzip, csv, os, re\n",
    "from sqlalchemy import create_engine, text\n",
    "from pydactyl import PterodactylClient\n",
    "from dotenv import load_dotenv\n",
    "import pandas as pd\n",
    "\n",
    "# Load .env file credentials\n",
    "load_dotenv()\n",
    "\n",
    "# Database connection\n",
    "host = os.getenv('POSTGRES_HOST')\n",
    "port = os.getenv('POSTGRES_PORT')\n",
    "database = os.getenv('POSTGRES_DATABASE')\n",
    "username = os.getenv('POSTGRES_USERNAME')\n",
    "password = os.getenv('POSTGRES_PASSWORD')\n",
    "connection = f'postgresql://{username}:{password}@{host}:{port}/{database}'\n",
    "\n",
    "# Pterodactyl connection\n",
    "pterodactyl_url = os.getenv('PTERODACTYL_URL')\n",
    "application_api_key = os.getenv('PTERODACTYL_APP_KEY')\n",
    "client_api_key = os.getenv('PTERODACTYL_CLI_KEY')\n",
    "\n",
    "# Connecto to Pterodactyl Application API\n",
    "api_app = PterodactylClient(pterodactyl_url, application_api_key, debug=False)\n",
    "# Connecto to Pterodactyl Client API\n",
    "api_cli = PterodactylClient(pterodactyl_url, client_api_key, debug=False)"
   ]
  },
  {
   "cell_type": "markdown",
   "metadata": {},
   "source": [
    "## Setup directories, functions and folder creation"
   ]
  },
  {
   "cell_type": "code",
   "execution_count": null,
   "metadata": {},
   "outputs": [],
   "source": [
    "# Setup directories\n",
    "pwd = os.getcwd() #os.path.dirname(os.path.realpath(__file__)) this is used for .py files\n",
    "raw_logs_folder = os.path.join(pwd, 'raw_logs')\n",
    "\n",
    "# Create new folder if not exists\n",
    "def mkdir(folder_dir):\n",
    "    if not os.path.exists(folder_dir):\n",
    "        os.makedirs(os.path.join(pwd, folder_dir))\n",
    "\n",
    "# Sort a list of logs names\n",
    "def sort_list_logs(logs):\n",
    "    def logs_modifications(log):\n",
    "        # remove the '-' from the log\n",
    "        date_part, number_part = log.split('-')[:3], log.split('-')[3]\n",
    "        # Join the parts of date to transform\n",
    "        date_log = '-'.join(date_part)\n",
    "        # remove the '.log' extension and pass the number to int\n",
    "        number_log = int(number_part.split('.')[0])\n",
    "        # return the date and number for sorting\n",
    "        return date_log, number_log\n",
    "\n",
    "    # use the logs_modifications function to sort the logs by date and number\n",
    "    sorted_logs = sorted(logs, key=logs_modifications)\n",
    "    return sorted_logs\n",
    "\n",
    "# Get last index from a list when matching with an element\n",
    "def last_index(list, element):\n",
    "    try:\n",
    "        return len(list) - 1 - list[::-1].index(element)\n",
    "    except ValueError:\n",
    "        raise ValueError(f\"'{element}' not found in the list\")\n",
    "\n",
    "# Extract the compressed files (.gz and .zip)    \n",
    "def extract_compressed_file(compressed_file_path, decompressed_folder_path):\n",
    "    if compressed_file_path.endswith('.gz'):\n",
    "        with gzip.open(compressed_file_path, 'rb') as compressed_file:\n",
    "            with open(decompressed_folder_path, 'wb') as decompressed_file:\n",
    "                decompressed_file.write(compressed_file.read())\n",
    "    elif compressed_file_path.endswith('.zip'):\n",
    "        with zipfile.ZipFile(compressed_file_path, 'r') as zip_file:\n",
    "            zip_file.extractall(os.path.dirname(decompressed_folder_path))\n",
    "\n",
    "# Create folder if not exist\n",
    "mkdir(raw_logs_folder)"
   ]
  },
  {
   "cell_type": "code",
   "execution_count": null,
   "metadata": {},
   "outputs": [],
   "source": [
    "def download_logs(identifier, egg, last_log, staging_folder):\n",
    "    eggs_minecraft = ('Vanilla Minecraft', 'Forge Minecraft', 'Paper', 'Spigot', 'Mohist')\n",
    "    eggs_ark = ('Ark: Survival Evolved',)\n",
    "    all_eggs = eggs_minecraft + eggs_ark\n",
    "\n",
    "    folder_logs = {\n",
    "        'Vanilla Minecraft': '/logs/',\n",
    "        'Forge Minecraft': '/logs/',\n",
    "        'Paper': '/logs/',\n",
    "        'Spigot': '/logs/',\n",
    "        'Mohist': '/logs/',\n",
    "        'Ark: Survival Evolved': '/ShooterGame/Saved/Logs/'\n",
    "    }\n",
    "\n",
    "    log_pattern = {\n",
    "        'Vanilla Minecraft': r'^\\d{4}-\\d{2}-\\d{2}-\\d.*', # yyyy-mm-dd-n*\n",
    "        'Forge Minecraft': r'^\\d{4}-\\d{2}-\\d{2}-\\d.*',\n",
    "        'Paper': r'^\\d{4}-\\d{2}-\\d{2}-\\d.*',\n",
    "        'Spigot': r'^\\d{4}-\\d{2}-\\d{2}-\\d.*',\n",
    "        'Mohist': r'^\\d{4}-\\d{2}-\\d{2}-\\d.*',\n",
    "        'Ark: Survival Evolved': r'^\\d{4}-\\d{2}-\\d{2}-\\d.*' #ServerGame.316.2023.11.17_19.25.10.log or ShooterGame-backup-2023.11.16-21.13.36.log - not sure \n",
    "    }\n",
    "\n",
    "    compression_ext = ('.gz', '.zip')\n",
    "\n",
    "    if egg in all_eggs:\n",
    "        # Create a folder as staging area for each server\n",
    "        folder_server_dir = os.path.join(staging_folder, identifier)\n",
    "        mkdir(folder_server_dir)\n",
    "\n",
    "        # Get the last log date to download only necessary logs\n",
    "        if last_log is not None:\n",
    "            last_log_date = last_log.strftime('%Y-%m-%d')\n",
    "        else:\n",
    "            # Set a default value to download all logs in case when last log date is not available\n",
    "            last_log_date = '2000-01-01'\n",
    "\n",
    "        # Get a list of the logs inside the server\n",
    "        try:\n",
    "            log_files = api_cli.client.servers.files.list_files(identifier, folder_logs[egg])\n",
    "            log_files_data = log_files.get('data', [])\n",
    "        except requests.exceptions.HTTPError as e:\n",
    "            if e.response.status_code == 404 or e.response.status_code == 504:\n",
    "                print(f\"Server {identifier} not found in Pterodactyl.\")\n",
    "                return None # Skip this and continue to the next iteration\n",
    "\n",
    "        # If log_files_data is not empty, sort the list of logs based on the date naming\n",
    "        if log_files_data:\n",
    "            list_logs = [file['attributes']['name'] for file in log_files_data if re.match(log_pattern[egg], file['attributes']['name'])]\n",
    "            sorted_list_logs = sort_list_logs(list_logs)\n",
    "            sorted_list_logs_date = [item[:10] for item in sorted_list_logs]\n",
    "        else:\n",
    "            print(f\"No log files found in server {identifier} with the client API.\")\n",
    "\n",
    "        # Select only a list of downloadable_logs which are new; after the last_log_date\n",
    "        try:\n",
    "            index_last_log = last_index(sorted_list_logs_date, last_log_date)\n",
    "        except:\n",
    "            index_last_log = -1\n",
    "        downloadable_logs = sorted_list_logs[index_last_log + 1:]\n",
    "\n",
    "        # Download all logs in the list downloadable_logs\n",
    "        list_download = [api_cli.client.servers.files.download_file(server_info[0], f'/logs/{log}') for log in downloadable_logs]\n",
    "        if list_download:\n",
    "            [urllib.request.urlretrieve(list_download[i], os.path.join(folder_server_dir, list_logs[i])) for i in range(len(list_download))]\n",
    "        print(f'Files downloaded: {len(list_download)}')\n",
    "\n",
    "        # Uncompressing files if needed\n",
    "        for filename in os.listdir(folder_server_dir):\n",
    "            if filename.endswith(compression_ext):\n",
    "                compressed_file_path = os.path.join(folder_server_dir, filename)\n",
    "                decompressed_file_path = os.path.splitext(compressed_file_path)[0]  # Remove the last extension\n",
    "\n",
    "                # Uncompress the file\n",
    "                extract_compressed_file(compressed_file_path, decompressed_file_path)\n",
    "\n",
    "                # Delete the compressed file\n",
    "                os.remove(compressed_file_path)"
   ]
  },
  {
   "cell_type": "markdown",
   "metadata": {},
   "source": [
    "## Extract logs from each active Minecraft Server"
   ]
  },
  {
   "cell_type": "code",
   "execution_count": null,
   "metadata": {},
   "outputs": [],
   "source": [
    "SCHEMA_PTERODACTYL = 'pterodactyl'\n",
    "SCHEMA_MINECRAFT = 'minecraft'\n",
    "\n",
    "eggs_ready = ('Vanilla Minecraft', 'Forge Minecraft', 'Paper', 'Mohist') # Vanilla Bedrock is still not ready to be processed\n",
    "\n",
    "# Get server information\n",
    "engine = create_engine(connection)\n",
    "with engine.connect() as conn:\n",
    "    list_servers = conn.execute(text(f'SELECT servers.identifier, eggs.name, last_log_date.last_date FROM {SCHEMA_PTERODACTYL}.servers JOIN {SCHEMA_PTERODACTYL}.eggs ON eggs.id = servers.egg_id LEFT JOIN {SCHEMA_MINECRAFT}.last_log_date ON last_log_date.server_identifier = servers.identifier WHERE servers.is_active = true and servers.nest_id = 1'))\n",
    "\n",
    "for server_info in list_servers:\n",
    "\n",
    "    download_logs(identifier = server_info[0], egg = server_info[1], last_log = server_info[2], staging_folder = raw_logs_folder)"
   ]
  },
  {
   "cell_type": "markdown",
   "metadata": {},
   "source": [
    "## Transformation from logs data to information"
   ]
  },
  {
   "cell_type": "code",
   "execution_count": 17,
   "metadata": {},
   "outputs": [
    {
     "data": {
      "text/plain": [
       "'[2023-11-14] [23:58:16] [main/INFO] [STDOUT/]: Update in check...\\n[2023-11-14] [23:58:16] [main/INFO] [STDOUT/]: If you don\\'t want to enable update check, set check_update in mohist-config/mohist.yml to false\\n[2023-11-14] [23:58:18] [main/INFO] [STDOUT/]: No update found, latest version: (1.16.5-1187) current version: (1.16.5-1187)\\n[2023-11-14] [23:58:18] [main/INFO] [STDOUT/]: You need to accept the eula to launch your server. Type true to continue.\\n[2023-11-14] [23:58:29] [main/INFO] [cpw.mods.modlauncher.Launcher/MODLAUNCHER]: ModLauncher running: args [--gameDir, ., --launchTarget, fmlserver, --fml.mohistVersion, 1187, --fml.forgeVersion, 36.2.39, --fml.mcpVersion, 20210115.111550, --fml.mcVersion, 1.16.5, --fml.forgeGroup, com.mohistmc, pause]\\n[2023-11-14] [23:58:29] [main/INFO] [cpw.mods.modlauncher.Launcher/MODLAUNCHER]: ModLauncher mohist-8.1.3 starting: java version 18.0.2.1 by Eclipse Adoptium\\n[2023-11-14] [23:58:29] [main/INFO] [net.minecraftforge.fml.loading.FixSSL/CORE]: Added Lets Encrypt root certificates as additional trust\\n[2023-11-14] [23:58:29] [main/INFO] [mixin/]: SpongePowered MIXIN Subsystem Version=0.8.4 Source=file:/home/container/libraries/org/spongepowered/mixin/0.8.4/mixin-0.8.4.jar Service=ModLauncher Env=SERVER\\n[2023-11-14] [23:58:29] [Thread-0/INFO] [STDERR/]: [com.electronwill.nightconfig.core.file.FileWatcher$WatcherThread:run:183]: com.electronwill.nightconfig.core.io.ParsingException: Invalid TOML data: entry \"[maxThreads]\" defined twice in its table.\\n[2023-11-14] [23:58:29] [Thread-0/INFO] [STDERR/]: [com.electronwill.nightconfig.core.file.FileWatcher$WatcherThread:run:183]: \\tat com.electronwill.nightconfig.toml.TableParser.checkDuplicateKey(TableParser.java:88)\\n[2023-11-14] [23:58:29] [Thread-0/INFO] [STDERR/]: [com.electronwill.nightconfig.core.file.FileWatcher$WatcherThread:run:183]: \\tat com.electronwill.nightconfig.toml.TableParser.parseNormal(TableParser.java:59)\\n[2023-11-14] [23:58:29] [Thread-0/INFO] [STDERR/]: [com.electronwill.nightconfig.core.file.FileWatcher$WatcherThread:run:183]: \\tat com.electronwill.nightconfig.toml.TomlParser.parse(TomlParser.java:44)\\n[2023-11-14] [23:58:29] [Thread-0/INFO] [STDERR/]: [com.electronwill.nightconfig.core.file.FileWatcher$WatcherThread:run:183]: \\tat com.electronwill.nightconfig.toml.TomlParser.parse(TomlParser.java:37)\\n[2023-11-14] [23:58:29] [Thread-0/INFO] [STDERR/]: [com.electronwill.nightconfig.core.file.FileWatcher$WatcherThread:run:183]: \\tat com.electronwill.nightconfig.core.io.ConfigParser.parse(ConfigParser.java:113)\\n[2023-11-14] [23:58:29] [Thread-0/INFO] [STDERR/]: [com.electronwill.nightconfig.core.file.FileWatcher$WatcherThread:run:183]: \\tat com.electronwill.nightconfig.core.io.ConfigParser.parse(ConfigParser.java:219)\\n[2023-11-14] [23:58:29] [Thread-0/INFO] [STDERR/]: [com.electronwill.nightconfig.core.file.FileWatcher$WatcherThread:run:183]: \\tat com.electronwill.nightconfig.core.io.ConfigParser.parse(ConfigParser.java:202)\\n[2023-11-14] [23:58:29] [Thread-0/INFO] [STDERR/]: [com.electronwill.nightconfig.core.file.FileWatcher$WatcherThread:run:183]: \\tat com.electronwill.nightconfig.core.file.WriteSyncFileConfig.load(WriteSyncFileConfig.java:73)\\n[2023-11-14] [23:58:29] [Thread-0/INFO] [STDERR/]: [com.electronwill.nightconfig.core.file.FileWatcher$WatcherThread:run:183]: \\tat com.electronwill.nightconfig.core.file.FileWatcher$WatcherThread.run(FileWatcher.java:181)\\n[2023-11-14] [23:58:30] [main/INFO] [cpw.mods.modlauncher.LaunchServiceHandler/MODLAUNCHER]: Launching target \\'fmlserver\\' with arguments [--gameDir, ., pause]\\n[2023-11-14] [23:58:35] [modloading-worker-0/INFO] [net.minecraftforge.common.ForgeMod/FORGEMOD]: Forge mod loading, version 36.2.39, for MC 1.16.5 with MCP 20210115.111550\\n[2023-11-14] [23:58:35] [modloading-worker-0/INFO] [net.minecraftforge.common.MinecraftForge/FORGE]: MinecraftForge v36.2.39 Initialized\\n[2023-11-14] [23:58:35] [modloading-worker-0/INFO] [com.mohistmc.MohistMC/]: EventDispatcherRegistry initialized\\n[2023-11-14] [23:58:37] [main/INFO] [com.mojang.authlib.yggdrasil.YggdrasilAuthenticationService/]: Environment: authHost=\\'https://authserver.mojang.com\\', accountsHost=\\'https://api.mojang.com\\', sessionHost=\\'https://sessionserver.mojang.com\\', servicesHost=\\'https://api.minecraftservices.com\\', name=\\'PROD\\'\\n[2023-11-14] [23:58:37] [main/INFO] [net.minecraft.server.MinecraftServer/]: Found new data pack file/bukkit, loading it automatically\\n[2023-11-14] [23:58:38] [main/INFO] [net.minecraft.resources.SimpleReloadableResourceManager/]: Reloading ResourceManager: Default, mohist-1.16.5-1187-universal.jar, bukkit\\n[2023-11-14] [23:58:38] [Worker-Main-10/INFO] [net.minecraft.advancements.AdvancementList/]: Loaded 927 recipes\\n[2023-11-14] [23:58:39] [Server thread/INFO] [net.minecraft.server.dedicated.DedicatedServer/]: Starting minecraft server version 1.16.5\\n[2023-11-14] [23:58:39] [Server thread/INFO] [net.minecraft.server.dedicated.DedicatedServer/]: Loading properties\\n[2023-11-14] [23:58:39] [Server thread/INFO] [net.minecraft.server.dedicated.DedicatedServer/]: Default game type: SURVIVAL\\n[2023-11-14] [23:58:39] [Server thread/INFO] [net.minecraft.server.MinecraftServer/]: Generating keypair\\n[2023-11-14] [23:58:39] [Server thread/INFO] [net.minecraft.server.dedicated.DedicatedServer/]: Starting Minecraft server on 0.0.0.0:27,013\\n[2023-11-14] [23:58:39] [Server thread/INFO] [net.minecraft.network.NetworkSystem/]: Using epoll channel type\\n[2023-11-14] [23:58:40] [Server thread/INFO] [Minecraft/]: This server is running Mohist version 1.16.5-1187 (MC: 1.16.5) (Implementing API version 1.16.5-R0.1-SNAPSHOT, Forge version 36.2.39)\\n[2023-11-14] [23:58:40] [Server thread/INFO] [Minecraft/]: Debug logging is enabled\\n[2023-11-14] [23:58:40] [Server thread/INFO] [/]: Server Ping Player Sample Count: 12\\n[2023-11-14] [23:58:40] [Server thread/INFO] [Minecraft/]: Using 4 threads for Netty based IO\\n[2023-11-14] [23:58:40] [Server thread/INFO] [/]: Loaded inheritance map of 2322 classes\\n[2023-11-14] [23:58:40] [Server thread/INFO] [net.minecraft.server.dedicated.DedicatedServer/]: Preparing level \"world\"\\n[2023-11-14] [23:58:46] [Server thread/INFO] [net.minecraft.server.MinecraftServer/]: Preparing start region for dimension minecraft:overworld\\n[2023-11-14] [23:58:46] [Worker-Main-12/INFO] [net.minecraft.world.chunk.listener.LoggingChunkStatusListener/]: Preparing spawn area: 0%\\n[2023-11-14] [23:58:48] [Worker-Main-12/INFO] [net.minecraft.world.chunk.listener.LoggingChunkStatusListener/]: Preparing spawn area: 3%\\n[2023-11-14] [23:58:48] [Worker-Main-11/INFO] [net.minecraft.world.chunk.listener.LoggingChunkStatusListener/]: Preparing spawn area: 5%\\n[2023-11-14] [23:58:49] [Worker-Main-13/INFO] [net.minecraft.world.chunk.listener.LoggingChunkStatusListener/]: Preparing spawn area: 7%\\n[2023-11-14] [23:58:49] [Worker-Main-14/INFO] [net.minecraft.world.chunk.listener.LoggingChunkStatusListener/]: Preparing spawn area: 10%\\n[2023-11-14] [23:58:50] [Worker-Main-11/INFO] [net.minecraft.world.chunk.listener.LoggingChunkStatusListener/]: Preparing spawn area: 12%\\n[2023-11-14] [23:58:50] [Worker-Main-11/INFO] [net.minecraft.world.chunk.listener.LoggingChunkStatusListener/]: Preparing spawn area: 16%\\n[2023-11-14] [23:58:51] [Worker-Main-9/INFO] [net.minecraft.world.chunk.listener.LoggingChunkStatusListener/]: Preparing spawn area: 19%\\n[2023-11-14] [23:58:51] [Worker-Main-13/INFO] [net.minecraft.world.chunk.listener.LoggingChunkStatusListener/]: Preparing spawn area: 22%\\n[2023-11-14] [23:58:52] [Worker-Main-13/INFO] [net.minecraft.world.chunk.listener.LoggingChunkStatusListener/]: Preparing spawn area: 25%\\n[2023-11-14] [23:58:52] [Worker-Main-8/INFO] [net.minecraft.world.chunk.listener.LoggingChunkStatusListener/]: Preparing spawn area: 28%\\n[2023-11-14] [23:58:53] [Worker-Main-14/INFO] [net.minecraft.world.chunk.listener.LoggingChunkStatusListener/]: Preparing spawn area: 31%\\n[2023-11-14] [23:58:53] [Worker-Main-12/INFO] [net.minecraft.world.chunk.listener.LoggingChunkStatusListener/]: Preparing spawn area: 34%\\n[2023-11-14] [23:58:54] [Worker-Main-12/INFO] [net.minecraft.world.chunk.listener.LoggingChunkStatusListener/]: Preparing spawn area: 38%\\n[2023-11-14] [23:58:54] [Worker-Main-14/INFO] [net.minecraft.world.chunk.listener.LoggingChunkStatusListener/]: Preparing spawn area: 41%\\n[2023-11-14] [23:58:55] [Worker-Main-13/INFO] [net.minecraft.world.chunk.listener.LoggingChunkStatusListener/]: Preparing spawn area: 44%\\n[2023-11-14] [23:58:55] [Worker-Main-10/INFO] [net.minecraft.world.chunk.listener.LoggingChunkStatusListener/]: Preparing spawn area: 48%\\n[2023-11-14] [23:58:56] [Worker-Main-13/INFO] [net.minecraft.world.chunk.listener.LoggingChunkStatusListener/]: Preparing spawn area: 51%\\n[2023-11-14] [23:58:56] [Worker-Main-14/INFO] [net.minecraft.world.chunk.listener.LoggingChunkStatusListener/]: Preparing spawn area: 54%\\n[2023-11-14] [23:58:57] [Worker-Main-8/INFO] [net.minecraft.world.chunk.listener.LoggingChunkStatusListener/]: Preparing spawn area: 58%\\n[2023-11-14] [23:58:57] [Worker-Main-12/INFO] [net.minecraft.world.chunk.listener.LoggingChunkStatusListener/]: Preparing spawn area: 61%\\n[2023-11-14] [23:58:58] [Worker-Main-8/INFO] [net.minecraft.world.chunk.listener.LoggingChunkStatusListener/]: Preparing spawn area: 63%\\n[2023-11-14] [23:58:58] [Worker-Main-11/INFO] [net.minecraft.world.chunk.listener.LoggingChunkStatusListener/]: Preparing spawn area: 69%\\n[2023-11-14] [23:58:59] [Worker-Main-13/INFO] [net.minecraft.world.chunk.listener.LoggingChunkStatusListener/]: Preparing spawn area: 75%\\n[2023-11-14] [23:58:59] [Worker-Main-12/INFO] [net.minecraft.world.chunk.listener.LoggingChunkStatusListener/]: Preparing spawn area: 79%\\n[2023-11-14] [23:59:00] [Worker-Main-8/INFO] [net.minecraft.world.chunk.listener.LoggingChunkStatusListener/]: Preparing spawn area: 83%\\n[2023-11-14] [23:59:00] [Worker-Main-11/INFO] [net.minecraft.world.chunk.listener.LoggingChunkStatusListener/]: Preparing spawn area: 88%\\n[2023-11-14] [23:59:01] [Worker-Main-13/INFO] [net.minecraft.world.chunk.listener.LoggingChunkStatusListener/]: Preparing spawn area: 91%\\n[2023-11-14] [23:59:01] [Worker-Main-9/INFO] [net.minecraft.world.chunk.listener.LoggingChunkStatusListener/]: Preparing spawn area: 96%\\n[2023-11-14] [23:59:02] [Server thread/INFO] [net.minecraft.world.chunk.listener.LoggingChunkStatusListener/]: Time elapsed: 15,424 ms\\n[2023-11-14] [23:59:02] [Server thread/INFO] [net.minecraft.server.dedicated.DedicatedServer/]: Done (21.209s)! For help, type \"help\"\\n[2023-11-15] [01:03:59] [Server thread/INFO] [net.minecraft.server.MinecraftServer/]: Stopping server\\n[2023-11-15] [01:03:59] [Server thread/INFO] [net.minecraft.server.MinecraftServer/]: Saving players\\n[2023-11-15] [01:03:59] [Server thread/INFO] [net.minecraft.server.MinecraftServer/]: Saving worlds\\n[2023-11-15] [01:03:59] [Server thread/INFO] [net.minecraft.server.MinecraftServer/]: Saving chunks for level \\'ServerLevel[world]\\'/minecraft:overworld\\n[2023-11-15] [01:03:59] [Server thread/INFO] [net.minecraft.world.server.ChunkManager/]: ThreadedAnvilChunkStorage (world): All chunks are saved\\n[2023-11-15] [01:03:59] [Server thread/INFO] [net.minecraft.server.MinecraftServer/]: Saving chunks for level \\'ServerLevel[DIM-1]\\'/minecraft:the_nether\\n[2023-11-15] [01:03:59] [Server thread/INFO] [net.minecraft.world.server.ChunkManager/]: ThreadedAnvilChunkStorage (DIM-1): All chunks are saved\\n[2023-11-15] [01:03:59] [Server thread/INFO] [net.minecraft.server.MinecraftServer/]: Saving chunks for level \\'ServerLevel[DIM1]\\'/minecraft:the_end\\n[2023-11-15] [01:03:59] [Server thread/INFO] [net.minecraft.world.server.ChunkManager/]: ThreadedAnvilChunkStorage (DIM1): All chunks are saved\\n[2023-11-15] [01:03:59] [Server thread/INFO] [net.minecraft.world.server.ChunkManager/]: ThreadedAnvilChunkStorage (world): All chunks are saved\\n[2023-11-15] [01:03:59] [Server thread/INFO] [net.minecraft.world.server.ChunkManager/]: ThreadedAnvilChunkStorage (DIM-1): All chunks are saved\\n[2023-11-15] [01:03:59] [Server thread/INFO] [net.minecraft.world.server.ChunkManager/]: ThreadedAnvilChunkStorage (DIM1): All chunks are saved\\n[2023-11-15] [01:08:09] [main/INFO] [STDOUT/]: Update in check...\\n[2023-11-15] [01:08:09] [main/INFO] [STDOUT/]: If you don\\'t want to enable update check, set check_update in mohist-config/mohist.yml to false\\n[2023-11-15] [01:08:10] [main/INFO] [STDOUT/]: No update found, latest version: (1.16.5-1187) current version: (1.16.5-1187)\\n[2023-11-15] [01:08:10] [main/INFO] [cpw.mods.modlauncher.Launcher/MODLAUNCHER]: ModLauncher running: args [--gameDir, ., --launchTarget, fmlserver, --fml.mohistVersion, 1187, --fml.forgeVersion, 36.2.39, --fml.mcpVersion, 20210115.111550, --fml.mcVersion, 1.16.5, --fml.forgeGroup, com.mohistmc, pause]\\n[2023-11-15] [01:08:10] [main/INFO] [cpw.mods.modlauncher.Launcher/MODLAUNCHER]: ModLauncher mohist-8.1.3 starting: java version 18.0.2.1 by Eclipse Adoptium\\n[2023-11-15] [01:08:10] [main/INFO] [net.minecraftforge.fml.loading.FixSSL/CORE]: Added Lets Encrypt root certificates as additional trust\\n[2023-11-15] [01:08:10] [main/INFO] [mixin/]: SpongePowered MIXIN Subsystem Version=0.8.4 Source=file:/home/container/libraries/org/spongepowered/mixin/0.8.4/mixin-0.8.4.jar Service=ModLauncher Env=SERVER\\n[2023-11-15] [01:08:11] [main/INFO] [cpw.mods.modlauncher.LaunchServiceHandler/MODLAUNCHER]: Launching target \\'fmlserver\\' with arguments [--gameDir, ., pause]\\n[2023-11-15] [01:08:19] [modloading-worker-0/INFO] [net.minecraftforge.common.ForgeMod/FORGEMOD]: Forge mod loading, version 36.2.39, for MC 1.16.5 with MCP 20210115.111550\\n[2023-11-15] [01:08:19] [modloading-worker-0/INFO] [net.minecraftforge.common.MinecraftForge/FORGE]: MinecraftForge v36.2.39 Initialized\\n[2023-11-15] [01:08:19] [modloading-worker-0/INFO] [com.mohistmc.MohistMC/]: EventDispatcherRegistry initialized\\n[2023-11-15] [01:08:23] [main/INFO] [com.mojang.authlib.yggdrasil.YggdrasilAuthenticationService/]: Environment: authHost=\\'https://authserver.mojang.com\\', accountsHost=\\'https://api.mojang.com\\', sessionHost=\\'https://sessionserver.mojang.com\\', servicesHost=\\'https://api.minecraftservices.com\\', name=\\'PROD\\'\\n[2023-11-15] [01:08:24] [main/INFO] [net.minecraft.resources.SimpleReloadableResourceManager/]: Reloading ResourceManager: Default, mohist-1.16.5-1187-universal.jar, bukkit\\n[2023-11-15] [01:08:25] [Worker-Main-13/INFO] [net.minecraft.advancements.AdvancementList/]: Loaded 927 recipes\\n[2023-11-15] [01:08:28] [Server thread/INFO] [net.minecraft.server.dedicated.DedicatedServer/]: Starting minecraft server version 1.16.5\\n[2023-11-15] [01:08:28] [Server thread/INFO] [net.minecraft.server.dedicated.DedicatedServer/]: Loading properties\\n[2023-11-15] [01:08:28] [Server thread/INFO] [net.minecraft.server.dedicated.DedicatedServer/]: Default game type: SURVIVAL\\n[2023-11-15] [01:08:28] [Server thread/INFO] [net.minecraft.server.MinecraftServer/]: Generating keypair\\n[2023-11-15] [01:08:28] [Server thread/INFO] [net.minecraft.server.dedicated.DedicatedServer/]: Starting Minecraft server on 0.0.0.0:27,013\\n[2023-11-15] [01:08:28] [Server thread/INFO] [net.minecraft.network.NetworkSystem/]: Using epoll channel type\\n[2023-11-15] [01:08:28] [Server thread/INFO] [Minecraft/]: This server is running Mohist version 1.16.5-1187 (MC: 1.16.5) (Implementing API version 1.16.5-R0.1-SNAPSHOT, Forge version 36.2.39)\\n[2023-11-15] [01:08:28] [Server thread/INFO] [Minecraft/]: Debug logging is enabled\\n[2023-11-15] [01:08:28] [Server thread/INFO] [/]: Server Ping Player Sample Count: 12\\n[2023-11-15] [01:08:28] [Server thread/INFO] [Minecraft/]: Using 4 threads for Netty based IO\\n[2023-11-15] [01:08:29] [Server thread/INFO] [/]: Loaded inheritance map of 2322 classes\\n[2023-11-15] [01:08:29] [Server thread/INFO] [net.minecraft.server.dedicated.DedicatedServer/]: Preparing level \"world\"\\n[2023-11-15] [01:08:29] [Server thread/INFO] [Minecraft/]: Server permissions file permissions.yml is empty, ignoring it\\n[2023-11-15] [01:08:29] [Server thread/INFO] [net.minecraft.server.MinecraftServer/]: Preparing start region for dimension minecraft:overworld\\n[2023-11-15] [01:08:31] [Server thread/INFO] [net.minecraft.world.chunk.listener.LoggingChunkStatusListener/]: Preparing spawn area: 0%\\n[2023-11-15] [01:08:35] [Worker-Main-8/INFO] [net.minecraft.world.chunk.listener.LoggingChunkStatusListener/]: Preparing spawn area: 83%\\n[2023-11-15] [01:08:38] [Worker-Main-11/INFO] [net.minecraft.world.chunk.listener.LoggingChunkStatusListener/]: Preparing spawn area: 85%\\n[2023-11-15] [01:08:39] [Worker-Main-13/INFO] [net.minecraft.world.chunk.listener.LoggingChunkStatusListener/]: Preparing spawn area: 89%\\n[2023-11-15] [01:08:39] [Worker-Main-9/INFO] [net.minecraft.world.chunk.listener.LoggingChunkStatusListener/]: Preparing spawn area: 91%\\n[2023-11-15] [01:08:40] [Worker-Main-14/INFO] [net.minecraft.world.chunk.listener.LoggingChunkStatusListener/]: Preparing spawn area: 96%\\n[2023-11-15] [01:08:40] [Server thread/INFO] [net.minecraft.world.chunk.listener.LoggingChunkStatusListener/]: Time elapsed: 10,951 ms\\n[2023-11-15] [01:08:40] [Server thread/INFO] [net.minecraft.server.dedicated.DedicatedServer/]: Done (11.293s)! For help, type \"help\"\\n[2023-11-15] [11:47:59] [User Authenticator #1/INFO] [net.minecraft.network.login.ServerLoginNetHandler/]: UUID of player vitaminaa17 is da7d98c1-f8a6-49b7-8ef8-ffba2a96e18b\\n[2023-11-15] [11:47:59] [Netty Epoll Server IO #2/INFO] [net.minecraftforge.fml.network.FMLHandshakeHandler/]: Client attempting to join with 2 mods : minecraft, forge\\n[2023-11-15] [11:48:00] [Server thread/INFO] [net.minecraft.server.management.PlayerList/]: vitaminaa17[/201.188.7.235:50597] logged in with entity id 35 at (123.5, 63, 199.5)\\n[2023-11-15] [11:48:28] [Server thread/INFO] [net.minecraft.server.dedicated.DedicatedServer/]: Made vitaminaa17 a server operator\\n[2023-11-15] [11:48:31] [Server thread/INFO] [net.minecraft.network.play.ServerPlayNetHandler/]: vitaminaa17 issued server command: /gamemode creative\\n[2023-11-15] [11:48:31] [Server thread/INFO] [net.minecraft.server.dedicated.DedicatedServer/]: [vitaminaa17: Set own game mode to Creative Mode]\\n[2023-11-15] [11:49:46] [Server thread/INFO] [net.minecraft.network.play.ServerPlayNetHandler/]: vitaminaa17 lost connection: Disconnected\\n[2023-11-15] [11:49:46] [Server thread/INFO] [net.minecraft.server.dedicated.DedicatedServer/]: vitaminaa17 left the game\\n[2023-11-21] [21:53:56] [User Authenticator #2/INFO] [net.minecraft.network.login.ServerLoginNetHandler/]: UUID of player vitaminaa17 is da7d98c1-f8a6-49b7-8ef8-ffba2a96e18b\\n[2023-11-21] [21:53:56] [Server thread/INFO] [net.minecraft.network.login.ServerLoginNetHandler/]: com.mojang.authlib.GameProfile@c5b5bd4[id=da7d98c1-f8a6-49b7-8ef8-ffba2a96e18b,name=vitaminaa17,properties={textures=[com.mojang.authlib.properties.Property@7f83285c]},legacy=false] (/200.28.242.75:50463) lost connection: Disconnected\\n[2023-11-21] [21:54:08] [User Authenticator #3/INFO] [net.minecraft.network.login.ServerLoginNetHandler/]: UUID of player vitaminaa17 is da7d98c1-f8a6-49b7-8ef8-ffba2a96e18b\\n[2023-11-21] [21:54:08] [Server thread/INFO] [net.minecraft.network.login.ServerLoginNetHandler/]: com.mojang.authlib.GameProfile@2f3bd05b[id=da7d98c1-f8a6-49b7-8ef8-ffba2a96e18b,name=vitaminaa17,properties={textures=[com.mojang.authlib.properties.Property@392a131a]},legacy=false] (/200.28.242.75:50468) lost connection: Disconnected\\n[2023-11-21] [21:56:08] [User Authenticator #4/INFO] [net.minecraft.network.login.ServerLoginNetHandler/]: UUID of player vitaminaa17 is da7d98c1-f8a6-49b7-8ef8-ffba2a96e18b\\n[2023-11-21] [21:56:08] [Server thread/INFO] [net.minecraft.network.login.ServerLoginNetHandler/]: com.mojang.authlib.GameProfile@6f1d5146[id=da7d98c1-f8a6-49b7-8ef8-ffba2a96e18b,name=vitaminaa17,properties={textures=[com.mojang.authlib.properties.Property@539897a8]},legacy=false] (/200.28.242.75:50630) lost connection: Disconnected\\n[2023-11-21] [21:58:58] [User Authenticator #5/INFO] [net.minecraft.network.login.ServerLoginNetHandler/]: UUID of player vitaminaa17 is da7d98c1-f8a6-49b7-8ef8-ffba2a96e18b\\n[2023-11-21] [21:58:58] [Server thread/INFO] [net.minecraft.network.login.ServerLoginNetHandler/]: com.mojang.authlib.GameProfile@271ee519[id=da7d98c1-f8a6-49b7-8ef8-ffba2a96e18b,name=vitaminaa17,properties={textures=[com.mojang.authlib.properties.Property@7ebd03a3]},legacy=false] (/200.28.242.75:51209) lost connection: Disconnected\\n[2023-11-21] [21:59:06] [User Authenticator #6/INFO] [net.minecraft.network.login.ServerLoginNetHandler/]: UUID of player vitaminaa17 is da7d98c1-f8a6-49b7-8ef8-ffba2a96e18b\\n[2023-11-21] [21:59:06] [Server thread/INFO] [net.minecraft.network.login.ServerLoginNetHandler/]: com.mojang.authlib.GameProfile@565650a9[id=da7d98c1-f8a6-49b7-8ef8-ffba2a96e18b,name=vitaminaa17,properties={textures=[com.mojang.authlib.properties.Property@30fdd3f5]},legacy=false] (/200.28.242.75:51217) lost connection: Disconnected\\n[2023-11-21] [22:06:41] [User Authenticator #7/INFO] [net.minecraft.network.login.ServerLoginNetHandler/]: UUID of player vitaminaa17 is da7d98c1-f8a6-49b7-8ef8-ffba2a96e18b\\n[2023-11-21] [22:06:41] [Server thread/INFO] [net.minecraft.network.login.ServerLoginNetHandler/]: com.mojang.authlib.GameProfile@4b766988[id=da7d98c1-f8a6-49b7-8ef8-ffba2a96e18b,name=vitaminaa17,properties={textures=[com.mojang.authlib.properties.Property@3948d662]},legacy=false] (/200.28.242.75:51584) lost connection: Disconnected\\n[2023-11-21] [22:09:32] [User Authenticator #8/INFO] [net.minecraft.network.login.ServerLoginNetHandler/]: UUID of player vitaminaa17 is da7d98c1-f8a6-49b7-8ef8-ffba2a96e18b\\n[2023-11-21] [22:09:33] [Server thread/INFO] [net.minecraft.network.login.ServerLoginNetHandler/]: com.mojang.authlib.GameProfile@7f27a311[id=da7d98c1-f8a6-49b7-8ef8-ffba2a96e18b,name=vitaminaa17,properties={textures=[com.mojang.authlib.properties.Property@2364a1e6]},legacy=false] (/200.28.242.75:51797) lost connection: Disconnected\\n[2023-11-21] [22:12:15] [User Authenticator #9/INFO] [net.minecraft.network.login.ServerLoginNetHandler/]: UUID of player vitaminaa17 is da7d98c1-f8a6-49b7-8ef8-ffba2a96e18b\\n[2023-11-21] [22:12:15] [Server thread/INFO] [net.minecraft.network.login.ServerLoginNetHandler/]: com.mojang.authlib.GameProfile@9f7062d[id=da7d98c1-f8a6-49b7-8ef8-ffba2a96e18b,name=vitaminaa17,properties={textures=[com.mojang.authlib.properties.Property@42629a68]},legacy=false] (/200.28.242.75:51996) lost connection: Disconnected\\n[2023-11-21] [22:19:22] [User Authenticator #10/INFO] [net.minecraft.network.login.ServerLoginNetHandler/]: UUID of player vitaminaa17 is da7d98c1-f8a6-49b7-8ef8-ffba2a96e18b\\n[2023-11-21] [22:19:22] [Server thread/INFO] [net.minecraft.network.login.ServerLoginNetHandler/]: com.mojang.authlib.GameProfile@2b9ea6bb[id=da7d98c1-f8a6-49b7-8ef8-ffba2a96e18b,name=vitaminaa17,properties={textures=[com.mojang.authlib.properties.Property@31ccb75]},legacy=false] (/200.28.242.75:52342) lost connection: Disconnected\\n[2023-11-21] [22:36:08] [User Authenticator #11/INFO] [net.minecraft.network.login.ServerLoginNetHandler/]: UUID of player vitaminaa17 is da7d98c1-f8a6-49b7-8ef8-ffba2a96e18b\\n[2023-11-21] [22:36:08] [Server thread/INFO] [net.minecraft.network.login.ServerLoginNetHandler/]: com.mojang.authlib.GameProfile@69bf1ed2[id=da7d98c1-f8a6-49b7-8ef8-ffba2a96e18b,name=vitaminaa17,properties={textures=[com.mojang.authlib.properties.Property@481edecb]},legacy=false] (/200.28.242.75:53142) lost connection: Disconnected\\n[2023-11-22] [13:09:35] [User Authenticator #12/INFO] [net.minecraft.network.login.ServerLoginNetHandler/]: UUID of player vitaminaa17 is da7d98c1-f8a6-49b7-8ef8-ffba2a96e18b\\n[2023-11-22] [13:09:35] [Netty Epoll Server IO #28/INFO] [net.minecraftforge.fml.network.FMLHandshakeHandler/]: Client attempting to join with 4 mods : minecraft, forge, journeymap, jei\\n[2023-11-22] [13:09:36] [Server thread/INFO] [net.minecraft.server.management.PlayerList/]: vitaminaa17[/200.28.242.75:51235] logged in with entity id 2,136 at (-300.531, 68, 91.552)\\n[2023-11-22] [13:10:08] [Server thread/INFO] [net.minecraft.network.play.ServerPlayNetHandler/]: vitaminaa17 issued server command: /menu\\n[2023-11-22] [13:10:13] [Server thread/INFO] [net.minecraft.network.play.ServerPlayNetHandler/]: vitaminaa17 issued server command: /lobby\\n[2023-11-22] [13:10:48] [Server thread/INFO] [net.minecraft.network.play.ServerPlayNetHandler/]: vitaminaa17 issued server command: /menu\\n[2023-11-22] [13:10:57] [Server thread/INFO] [net.minecraft.network.play.ServerPlayNetHandler/]: vitaminaa17 issued server command: /clear\\n[2023-11-22] [13:10:57] [Server thread/INFO] [net.minecraft.server.dedicated.DedicatedServer/]: [vitaminaa17: Removed 2 items from player vitaminaa17]\\n[2023-11-22] [13:11:01] [Server thread/INFO] [net.minecraft.network.play.ServerPlayNetHandler/]: vitaminaa17 issued server command: /menu\\n[2023-11-22] [13:11:17] [Server thread/INFO] [net.minecraft.network.play.ServerPlayNetHandler/]: vitaminaa17 issued server command: /gamemode survival\\n[2023-11-22] [13:11:17] [Server thread/INFO] [net.minecraft.server.dedicated.DedicatedServer/]: [vitaminaa17: Set own game mode to Survival Mode]\\n[2023-11-22] [13:11:18] [Server thread/INFO] [net.minecraft.server.dedicated.DedicatedServer/]: vitaminaa17 fell from a high place\\n[2023-11-22] [13:11:34] [Server thread/INFO] [net.minecraft.network.play.ServerPlayNetHandler/]: vitaminaa17 issued server command: /comanf\\n[2023-11-22] [13:11:45] [Server thread/INFO] [net.minecraft.network.play.ServerPlayNetHandler/]: vitaminaa17 lost connection: Disconnected\\n[2023-11-22] [13:11:45] [Server thread/INFO] [net.minecraft.server.dedicated.DedicatedServer/]: vitaminaa17 left the game\\n\\n[2023-11-25] [20:14:34] [Server thread/INFO] [net.minecraft.server.dedicated.DedicatedServer/]: Stopping the server\\n[2023-11-25] [20:14:34] [Server thread/INFO] [net.minecraft.server.MinecraftServer/]: Stopping server\\n[2023-11-25] [20:14:34] [Server thread/INFO] [net.minecraft.server.MinecraftServer/]: Saving players\\n[2023-11-25] [20:14:34] [Server thread/INFO] [net.minecraft.server.MinecraftServer/]: Saving worlds\\n[2023-11-25] [20:14:34] [Server thread/INFO] [net.minecraft.server.MinecraftServer/]: Saving chunks for level \\'ServerLevel[world]\\'/minecraft:overworld\\n[2023-11-25] [20:14:35] [Server thread/INFO] [net.minecraft.world.server.ChunkManager/]: ThreadedAnvilChunkStorage (world): All chunks are saved\\n[2023-11-25] [20:14:35] [Server thread/INFO] [net.minecraft.server.MinecraftServer/]: Saving chunks for level \\'ServerLevel[DIM-1]\\'/minecraft:the_nether\\n[2023-11-25] [20:14:35] [Server thread/INFO] [net.minecraft.world.server.ChunkManager/]: ThreadedAnvilChunkStorage (DIM-1): All chunks are saved\\n[2023-11-25] [20:14:35] [Server thread/INFO] [net.minecraft.server.MinecraftServer/]: Saving chunks for level \\'ServerLevel[DIM1]\\'/minecraft:the_end\\n[2023-11-25] [20:14:35] [Server thread/INFO] [net.minecraft.world.server.ChunkManager/]: ThreadedAnvilChunkStorage (DIM1): All chunks are saved\\n[2023-11-25] [20:14:35] [Server thread/INFO] [net.minecraft.world.server.ChunkManager/]: ThreadedAnvilChunkStorage (world): All chunks are saved\\n[2023-11-25] [20:14:35] [Server thread/INFO] [net.minecraft.world.server.ChunkManager/]: ThreadedAnvilChunkStorage (DIM-1): All chunks are saved\\n[2023-11-25] [20:14:35] [Server thread/INFO] [net.minecraft.world.server.ChunkManager/]: ThreadedAnvilChunkStorage (DIM1): All chunks are saved\\n[2023-11-25] [20:14:41] [main/INFO] [STDOUT/]: Update in check...\\n[2023-11-25] [20:14:41] [main/INFO] [STDOUT/]: If you don\\'t want to enable update check, set check_update in mohist-config/mohist.yml to false\\n[2023-11-25] [20:14:42] [main/INFO] [STDOUT/]: The latest Mohist version is 1.16.5-1189 but you have 1.16.5-1187. The latest version has been built on 2023-11-21 04:04:11. You should update to fix recent bugs !\\n[2023-11-25] [20:14:42] [main/INFO] [cpw.mods.modlauncher.Launcher/MODLAUNCHER]: ModLauncher running: args [--gameDir, ., --launchTarget, fmlserver, --fml.mohistVersion, 1187, --fml.forgeVersion, 36.2.39, --fml.mcpVersion, 20210115.111550, --fml.mcVersion, 1.16.5, --fml.forgeGroup, com.mohistmc, pause]\\n[2023-11-25] [20:14:42] [main/INFO] [cpw.mods.modlauncher.Launcher/MODLAUNCHER]: ModLauncher mohist-8.1.3 starting: java version 18.0.2.1 by Eclipse Adoptium\\n[2023-11-25] [20:14:42] [main/INFO] [net.minecraftforge.fml.loading.FixSSL/CORE]: Added Lets Encrypt root certificates as additional trust\\n[2023-11-25] [20:14:42] [main/INFO] [mixin/]: SpongePowered MIXIN Subsystem Version=0.8.4 Source=file:/home/container/libraries/org/spongepowered/mixin/0.8.4/mixin-0.8.4.jar Service=ModLauncher Env=SERVER\\n[2023-11-25] [20:14:43] [main/INFO] [cpw.mods.modlauncher.LaunchServiceHandler/MODLAUNCHER]: Launching target \\'fmlserver\\' with arguments [--gameDir, ., pause]\\n[2023-11-25] [20:14:48] [modloading-worker-0/INFO] [net.minecraftforge.common.ForgeMod/FORGEMOD]: Forge mod loading, version 36.2.39, for MC 1.16.5 with MCP 20210115.111550\\n[2023-11-25] [20:14:48] [modloading-worker-0/INFO] [net.minecraftforge.common.MinecraftForge/FORGE]: MinecraftForge v36.2.39 Initialized\\n[2023-11-25] [20:14:48] [modloading-worker-0/INFO] [com.mohistmc.MohistMC/]: EventDispatcherRegistry initialized\\n[2023-11-25] [20:14:50] [main/INFO] [com.mojang.authlib.yggdrasil.YggdrasilAuthenticationService/]: Environment: authHost=\\'https://authserver.mojang.com\\', accountsHost=\\'https://api.mojang.com\\', sessionHost=\\'https://sessionserver.mojang.com\\', servicesHost=\\'https://api.minecraftservices.com\\', name=\\'PROD\\'\\n[2023-11-25] [20:14:51] [main/INFO] [net.minecraft.resources.SimpleReloadableResourceManager/]: Reloading ResourceManager: Default, mohist-1.16.5-1187-universal.jar, bukkit\\n[2023-11-25] [20:14:51] [Worker-Main-12/INFO] [net.minecraft.advancements.AdvancementList/]: Loaded 927 recipes\\n[2023-11-25] [20:14:53] [Server thread/INFO] [net.minecraft.server.dedicated.DedicatedServer/]: Starting minecraft server version 1.16.5\\n[2023-11-25] [20:14:53] [Server thread/INFO] [net.minecraft.server.dedicated.DedicatedServer/]: Loading properties\\n[2023-11-25] [20:14:53] [Server thread/INFO] [net.minecraft.server.dedicated.DedicatedServer/]: Default game type: SURVIVAL\\n[2023-11-25] [20:14:53] [Server thread/INFO] [net.minecraft.server.MinecraftServer/]: Generating keypair\\n[2023-11-25] [20:14:53] [Server thread/INFO] [net.minecraft.server.dedicated.DedicatedServer/]: Starting Minecraft server on 0.0.0.0:27,013\\n[2023-11-25] [20:14:53] [Server thread/INFO] [net.minecraft.network.NetworkSystem/]: Using epoll channel type\\n[2023-11-25] [20:14:53] [Server thread/INFO] [Minecraft/]: This server is running Mohist version 1.16.5-1187 (MC: 1.16.5) (Implementing API version 1.16.5-R0.1-SNAPSHOT, Forge version 36.2.39)\\n[2023-11-25] [20:14:53] [Server thread/INFO] [Minecraft/]: Debug logging is enabled\\n[2023-11-25] [20:14:53] [Server thread/INFO] [/]: Server Ping Player Sample Count: 12\\n[2023-11-25] [20:14:54] [Server thread/INFO] [Minecraft/]: Using 4 threads for Netty based IO\\n[2023-11-25] [20:14:54] [Server thread/INFO] [/]: Loaded inheritance map of 2322 classes\\n[2023-11-25] [20:14:54] [Server thread/INFO] [net.minecraft.server.dedicated.DedicatedServer/]: Preparing level \"world\"\\n[2023-11-25] [20:14:54] [Server thread/INFO] [Minecraft/]: Server permissions file permissions.yml is empty, ignoring it\\n[2023-11-25] [20:14:54] [Server thread/INFO] [net.minecraft.server.MinecraftServer/]: Preparing start region for dimension minecraft:overworld\\n[2023-11-25] [20:14:55] [Server thread/INFO] [net.minecraft.world.chunk.listener.LoggingChunkStatusListener/]: Preparing spawn area: 0%\\n[2023-11-25] [20:15:00] [Worker-Main-9/INFO] [net.minecraft.world.chunk.listener.LoggingChunkStatusListener/]: Preparing spawn area: 83%\\n[2023-11-25] [20:15:00] [Worker-Main-8/INFO] [net.minecraft.world.chunk.listener.LoggingChunkStatusListener/]: Preparing spawn area: 95%\\n[2023-11-25] [20:15:01] [Worker-Main-14/INFO] [net.minecraft.world.chunk.listener.LoggingChunkStatusListener/]: Preparing spawn area: 99%\\n[2023-11-25] [20:15:01] [Server thread/INFO] [net.minecraft.world.chunk.listener.LoggingChunkStatusListener/]: Time elapsed: 7,071 ms\\n[2023-11-25] [20:15:01] [Server thread/INFO] [net.minecraft.server.dedicated.DedicatedServer/]: Done (7.298s)! For help, type \"help\"\\n[2023-12-13] [04:51:27] [main/INFO] [STDOUT/]: Update in check...\\n[2023-12-13] [04:51:27] [main/INFO] [STDOUT/]: If you don\\'t want to enable update check, set check_update in mohist-config/mohist.yml to false\\n[2023-12-13] [04:51:28] [main/INFO] [STDOUT/]: The latest Mohist version is 1.16.5-1197 but you have 1.16.5-1187. The latest version has been built on 2023-12-01 21:46:17. You should update to fix recent bugs !\\n[2023-12-13] [04:51:28] [main/INFO] [cpw.mods.modlauncher.Launcher/MODLAUNCHER]: ModLauncher running: args [--gameDir, ., --launchTarget, fmlserver, --fml.mohistVersion, 1187, --fml.forgeVersion, 36.2.39, --fml.mcpVersion, 20210115.111550, --fml.mcVersion, 1.16.5, --fml.forgeGroup, com.mohistmc, pause]\\n[2023-12-13] [04:51:28] [main/INFO] [cpw.mods.modlauncher.Launcher/MODLAUNCHER]: ModLauncher mohist-8.1.3 starting: java version 18.0.2.1 by Eclipse Adoptium\\n[2023-12-13] [04:51:28] [main/INFO] [net.minecraftforge.fml.loading.FixSSL/CORE]: Added Lets Encrypt root certificates as additional trust\\n[2023-12-13] [04:51:28] [main/INFO] [mixin/]: SpongePowered MIXIN Subsystem Version=0.8.4 Source=file:/home/container/libraries/org/spongepowered/mixin/0.8.4/mixin-0.8.4.jar Service=ModLauncher Env=SERVER\\n[2023-12-13] [04:51:29] [main/INFO] [cpw.mods.modlauncher.LaunchServiceHandler/MODLAUNCHER]: Launching target \\'fmlserver\\' with arguments [--gameDir, ., pause]\\n[2023-12-13] [04:51:36] [modloading-worker-0/INFO] [net.minecraftforge.common.ForgeMod/FORGEMOD]: Forge mod loading, version 36.2.39, for MC 1.16.5 with MCP 20210115.111550\\n[2023-12-13] [04:51:36] [modloading-worker-0/INFO] [net.minecraftforge.common.MinecraftForge/FORGE]: MinecraftForge v36.2.39 Initialized\\n[2023-12-13] [04:51:36] [modloading-worker-0/INFO] [com.mohistmc.MohistMC/]: EventDispatcherRegistry initialized\\n[2023-12-13] [04:51:39] [main/INFO] [com.mojang.authlib.yggdrasil.YggdrasilAuthenticationService/]: Environment: authHost=\\'https://authserver.mojang.com\\', accountsHost=\\'https://api.mojang.com\\', sessionHost=\\'https://sessionserver.mojang.com\\', servicesHost=\\'https://api.minecraftservices.com\\', name=\\'PROD\\'\\n[2023-12-13] [04:51:39] [main/INFO] [net.minecraft.resources.SimpleReloadableResourceManager/]: Reloading ResourceManager: Default, mohist-1.16.5-1187-universal.jar, bukkit\\n[2023-12-13] [04:51:40] [Worker-Main-12/INFO] [net.minecraft.advancements.AdvancementList/]: Loaded 927 recipes\\n[2023-12-13] [04:51:42] [Server thread/INFO] [net.minecraft.server.dedicated.DedicatedServer/]: Starting minecraft server version 1.16.5\\n[2023-12-13] [04:51:42] [Server thread/INFO] [net.minecraft.server.dedicated.DedicatedServer/]: Loading properties\\n[2023-12-13] [04:51:42] [Server thread/INFO] [net.minecraft.server.dedicated.DedicatedServer/]: Default game type: SURVIVAL\\n[2023-12-13] [04:51:42] [Server thread/INFO] [net.minecraft.server.MinecraftServer/]: Generating keypair\\n[2023-12-13] [04:51:42] [Server thread/INFO] [net.minecraft.server.dedicated.DedicatedServer/]: Starting Minecraft server on 0.0.0.0:27,013\\n[2023-12-13] [04:51:42] [Server thread/INFO] [net.minecraft.network.NetworkSystem/]: Using epoll channel type\\n[2023-12-13] [04:51:43] [Server thread/INFO] [Minecraft/]: This server is running Mohist version 1.16.5-1187 (MC: 1.16.5) (Implementing API version 1.16.5-R0.1-SNAPSHOT, Forge version 36.2.39)\\n[2023-12-13] [04:51:43] [Server thread/INFO] [Minecraft/]: Debug logging is enabled\\n[2023-12-13] [04:51:43] [Server thread/INFO] [/]: Server Ping Player Sample Count: 12\\n[2023-12-13] [04:51:43] [Server thread/INFO] [Minecraft/]: Using 4 threads for Netty based IO\\n[2023-12-13] [04:51:43] [Server thread/INFO] [/]: Loaded inheritance map of 2322 classes\\n[2023-12-13] [04:51:44] [Server thread/INFO] [net.minecraft.server.dedicated.DedicatedServer/]: Preparing level \"world\"\\n[2023-12-13] [04:51:44] [Server thread/INFO] [Minecraft/]: Server permissions file permissions.yml is empty, ignoring it\\n[2023-12-13] [04:51:44] [Server thread/INFO] [net.minecraft.server.MinecraftServer/]: Preparing start region for dimension minecraft:overworld\\n[2023-12-13] [04:51:46] [Server thread/INFO] [net.minecraft.world.chunk.listener.LoggingChunkStatusListener/]: Preparing spawn area: 0%\\n[2023-12-13] [04:51:50] [Worker-Main-13/INFO] [net.minecraft.world.chunk.listener.LoggingChunkStatusListener/]: Preparing spawn area: 83%\\n[2023-12-13] [04:51:50] [Worker-Main-10/INFO] [net.minecraft.world.chunk.listener.LoggingChunkStatusListener/]: Preparing spawn area: 95%\\n[2023-12-13] [04:51:51] [Worker-Main-8/INFO] [net.minecraft.world.chunk.listener.LoggingChunkStatusListener/]: Preparing spawn area: 96%\\n[2023-12-13] [04:51:52] [Server thread/INFO] [net.minecraft.world.chunk.listener.LoggingChunkStatusListener/]: Time elapsed: 7,920 ms\\n[2023-12-13] [04:51:52] [Server thread/INFO] [net.minecraft.server.dedicated.DedicatedServer/]: Done (8.257s)! For help, type \"help\"\\n'"
      ]
     },
     "execution_count": 17,
     "metadata": {},
     "output_type": "execute_result"
    }
   ],
   "source": [
    "log_extension = '.log'\n",
    "\n",
    "folder = os.listdir(raw_logs_folder)[0]\n",
    "folder_server_dir = os.path.join(raw_logs_folder, folder)\n",
    "folder_server_dir\n",
    "\n",
    "log_files = [log for log in os.listdir(folder_server_dir) if log.endswith(log_extension)]\n",
    "log_files = sort_list_logs(log_files)\n",
    "\n",
    "if log_files:\n",
    "\n",
    "    all_logs = \"\"\n",
    "    for log_file in log_files:\n",
    "        with open(os.path.join(folder_server_dir, log_file), 'r', encoding='utf-8') as file:\n",
    "            log_contents = file.read().split('\\n')\n",
    "            log_contents = \"\\n\".join([f'[{log_file[:-(2+len(log_extension))]}] ' + line for line in log_contents if line.strip() != \"\"])\n",
    "            all_logs += log_contents + \"\\n\"\n",
    "all_logs\n"
   ]
  },
  {
   "cell_type": "code",
   "execution_count": 16,
   "metadata": {},
   "outputs": [
    {
     "data": {
      "text/plain": [
       "[('2023-01-01', '21:29:59', 'good')]"
      ]
     },
     "execution_count": 16,
     "metadata": {},
     "output_type": "execute_result"
    }
   ],
   "source": [
    "import re\n",
    "re.findall(r'\\[(\\d{4}-\\d{2}-\\d{2})\\] \\[.*?(\\d{2}:\\d{2}:\\d{2})(?: INFO|)\\](?: [.*//INFO]:|:) (.*)', '[2023-01-01] [21:29:59 INFO]: good\\n[2023-02-02] [14:38:37] [asdf/INFO]: good')"
   ]
  },
  {
   "cell_type": "code",
   "execution_count": null,
   "metadata": {},
   "outputs": [],
   "source": [
    "df_all_logs = pd.DataFrame(columns=['server_identifier', 'date', 'time', 'information', 'user', 'activity'])\n",
    "\n",
    "for folder in os.listdir(raw_logs_folder): \n",
    "    folder_server_dir = os.path.join(raw_logs_folder, folder)\n",
    "\n",
    "    # Read all logs as one\n",
    "    log_files = [log for log in os.listdir(folder_server_dir) if log.endswith('.log')]\n",
    "    log_files = sort_list_logs(log_files)\n",
    "\n",
    "    if log_files:\n",
    "\n",
    "        all_logs = \"\"\n",
    "        for log_file in log_files:\n",
    "            with open(os.path.join(folder_server_dir, log_file), 'r', encoding='utf-8') as file:\n",
    "                log_contents = file.read().split('\\n')\n",
    "                log_contents = \"\\n\".join([f'[{log_file[:-(2+len(extension_file_uncompessed))]}] ' + line for line in log_contents if line.strip() != \"\"])\n",
    "                all_logs += log_contents + \"\\n\"\n",
    "\n",
    "        # Transform information in meaningful information\n",
    "        pattern = r'\\[(\\d{4}-\\d{2}-\\d{2})\\] \\[.*?(\\d{2}:\\d{2}:\\d{2}).*?\\] \\[(.*?)/.*?\\]: (.*?)\\n'\n",
    "        matches = re.findall(pattern, all_logs)\n",
    "\n",
    "        # Create a list of dictionaries to store the extracted data\n",
    "        log_data = [{'server_identifier': folder, 'date': match[0], 'time': match[1], 'category': match[2], 'information': match[3]} for match in matches]\n",
    "        # Create a dataframe of the logs\n",
    "        df_logs = pd.DataFrame(log_data)\n",
    "        df_logs['user'] = None\n",
    "        df_logs['activity'] = None\n",
    "\n",
    "        # Filter by column category selecting only Server thread logs nad delete that column\n",
    "        df_logs = df_logs[df_logs['category'] == 'Server thread'][['server_identifier', 'date', 'time', 'information', 'user', 'activity']]\n",
    "\n",
    "        # Create a dataframe of the users\n",
    "        df_users = pd.read_csv(os.path.join(folder_server_dir,'users.csv'))\n",
    "\n",
    "        # Add information when server started\n",
    "        index=df_logs[df_logs['information'].str.startswith(\"Starting minecraft server version\") | df_logs['information'].str.startswith(\"Starting minecraft server on\")].index\n",
    "        if not index.empty:\n",
    "            df_logs.loc[index, 'user'] = 'server'\n",
    "            df_logs.loc[index, 'activity'] = 'start'\n",
    "        # Add information when server stopped\n",
    "        index=df_logs[df_logs['information'].str.startswith(\"Stopping server\") | df_logs['information'].str.startswith(\"Stopping the server\")].index\n",
    "        if not index.empty:\n",
    "            df_logs.loc[index, 'user'] = 'server'\n",
    "            df_logs.loc[index, 'activity'] = 'stop'\n",
    "        # Add information when user did something\n",
    "        for user in df_users['name']:\n",
    "            # Add information when user activity\n",
    "            index=df_logs[df_logs['information'].str.startswith(user)].index\n",
    "            if not index.empty:\n",
    "                df_logs.loc[index, 'user'] = user\n",
    "                df_logs.loc[index, 'activity'] = 'action'\n",
    "            # Add information when user login\n",
    "            index=df_logs[df_logs['information'].str.startswith(f'{user} joined the game')].index\n",
    "            if not index.empty:\n",
    "                df_logs.loc[index, 'user'] = user\n",
    "                df_logs.loc[index, 'activity'] = 'login'\n",
    "            # Add information when user logout\n",
    "            index = df_logs[df_logs['information'].str.startswith(f'{user} left the game')].index\n",
    "            if not index.empty:\n",
    "                df_logs.loc[index, 'user'] = user\n",
    "                df_logs.loc[index, 'activity'] = 'logout'\n",
    "            # Delete duplicated activity of login and logout\n",
    "            index=df_logs[df_logs['information'].str.startswith(f'{user}[') | df_logs['information'].str.startswith(f'{user} lost connection: Disconnected')].index\n",
    "            if not index.empty:\n",
    "                df_logs.loc[index, 'user'] = None\n",
    "                df_logs.loc[index, 'activity'] = None\n",
    "        # Rows with no server/user activity is deleted\n",
    "        df_logs = df_logs.dropna(subset=['activity'])\n",
    "\n",
    "        # Save every log in df_all_logs for each iteration\n",
    "        df_all_logs = pd.concat([df_all_logs, df_logs], ignore_index=True)\n",
    "\n",
    "# Delete all logs inside each server folder\n",
    "for folder in os.listdir(raw_logs_folder):\n",
    "    folder_server_dir = os.path.join(raw_logs_folder, folder)\n",
    "    [os.remove(os.path.join(folder_server_dir, log)) for log in os.listdir(folder_server_dir) if log.endswith(extension_file_uncompessed)]"
   ]
  },
  {
   "cell_type": "markdown",
   "metadata": {},
   "source": [
    "## Load processed data into Data Warehouse (Postgres)"
   ]
  },
  {
   "cell_type": "code",
   "execution_count": null,
   "metadata": {},
   "outputs": [],
   "source": [
    "# Set Schema and Table names in Postgres\n",
    "SCHEMA = 'pterodactyl'\n",
    "TABLE = 'activity'\n",
    "\n",
    "# Connect to database and upload all new logs into table\n",
    "engine = create_engine(connection)\n",
    "with engine.connect() as conn:\n",
    "\n",
    "# Start a new transaction\n",
    "    trans = conn.begin()\n",
    "\n",
    "    try:\n",
    "        # Load all new activity into postgres\n",
    "        df_all_logs.to_sql(name = TABLE, schema = SCHEMA, con = conn, if_exists='append', index=False)\n",
    "        # Commit the transaction\n",
    "        trans.commit()\n",
    "\n",
    "    except Exception as e:\n",
    "        # Rollback the transaction on exception\n",
    "        print('!!! [ERROR IN DATABASE QUERIES] !!!')\n",
    "        trans.rollback()\n",
    "        print('Transaction has been rolled back')\n",
    "        print(f'Error occurred during transaction:\\n{e}')\n",
    "        raise"
   ]
  }
 ],
 "metadata": {
  "kernelspec": {
   "display_name": "Python 3",
   "language": "python",
   "name": "python3"
  },
  "language_info": {
   "codemirror_mode": {
    "name": "ipython",
    "version": 3
   },
   "file_extension": ".py",
   "mimetype": "text/x-python",
   "name": "python",
   "nbconvert_exporter": "python",
   "pygments_lexer": "ipython3",
   "version": "3.11.4"
  },
  "orig_nbformat": 4
 },
 "nbformat": 4,
 "nbformat_minor": 2
}
